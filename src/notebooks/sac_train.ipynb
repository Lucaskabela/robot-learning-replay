{
  "nbformat": 4,
  "nbformat_minor": 0,
  "metadata": {
    "file_extension": ".py",
    "kernelspec": {
      "name": "python3",
      "display_name": "Python 3"
    },
    "mimetype": "text/x-python",
    "name": "python",
    "npconvert_exporter": "python",
    "pygments_lexer": "ipython3",
    "version": 3,
    "colab": {
      "name": "sac_train.ipynb",
      "provenance": [],
      "collapsed_sections": []
    },
    "accelerator": "GPU"
  },
  "cells": [
    {
      "cell_type": "markdown",
      "metadata": {
        "id": "gdhJQiL6E6m7"
      },
      "source": [
        "# SAC on CartPole & Mountain Car"
      ]
    },
    {
      "cell_type": "markdown",
      "metadata": {
        "id": "lgS9ufbdDQKG"
      },
      "source": [
        "This notebook applies our SAC in Cartpole and Mountain Car settings.  Note the first uses discrete, while the second uses continuous"
      ]
    },
    {
      "cell_type": "markdown",
      "metadata": {
        "id": "QWfx3417qQVj"
      },
      "source": [
        "## Get the code"
      ]
    },
    {
      "cell_type": "code",
      "metadata": {
        "id": "HLVKuSAHE6nA"
      },
      "source": [
        "!git clone https://github.com/Lucaskabela/robot-learning-replay.git"
      ],
      "execution_count": null,
      "outputs": []
    },
    {
      "cell_type": "code",
      "metadata": {
        "id": "h-RJar1pqZ69"
      },
      "source": [
        "%cd /content/robot-learning-replay/src/\n",
        "LOG_PATH = \"/content/robot-learning-replay/src/log_dir\""
      ],
      "execution_count": null,
      "outputs": []
    },
    {
      "cell_type": "markdown",
      "metadata": {
        "id": "8h659F_7qe3b"
      },
      "source": [
        "## Make sure code is up to date"
      ]
    },
    {
      "cell_type": "code",
      "metadata": {
        "id": "DGRmeg6uqdEt"
      },
      "source": [
        "!git pull"
      ],
      "execution_count": null,
      "outputs": []
    },
    {
      "cell_type": "markdown",
      "metadata": {
        "id": "VD-Suew6E6nD"
      },
      "source": [
        "# Set Up TensorBoard"
      ]
    },
    {
      "cell_type": "code",
      "metadata": {
        "id": "OZAV43R3cgEm"
      },
      "source": [
        "%load_ext tensorboard"
      ],
      "execution_count": null,
      "outputs": []
    },
    {
      "cell_type": "code",
      "metadata": {
        "id": "IYaEyM8drJeD"
      },
      "source": [
        "%reload_ext tensorboard\n",
        "!rm -rf $LOG_PATH\n",
        "%tensorboard --logdir $LOG_PATH --reload_interval 0.1"
      ],
      "execution_count": null,
      "outputs": []
    },
    {
      "cell_type": "markdown",
      "metadata": {
        "id": "8wEnM2WyruI6"
      },
      "source": [
        "# Initialize args, run code!"
      ]
    },
    {
      "cell_type": "code",
      "metadata": {
        "id": "yCkn-BLHrs7Z"
      },
      "source": [
        "!python main.py --log_dir $LOG_PATH -lr 3e-4 "
      ],
      "execution_count": null,
      "outputs": []
    }
  ]
}